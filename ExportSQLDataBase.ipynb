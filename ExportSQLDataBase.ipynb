{
 "cells": [
  {
   "cell_type": "code",
   "execution_count": 137,
   "metadata": {},
   "outputs": [],
   "source": [
    "import pyodbc\n",
    "import pandas as pd"
   ]
  },
  {
   "cell_type": "code",
   "execution_count": 138,
   "metadata": {
    "scrolled": true
   },
   "outputs": [
    {
     "data": {
      "text/html": [
       "<div>\n",
       "<style scoped>\n",
       "    .dataframe tbody tr th:only-of-type {\n",
       "        vertical-align: middle;\n",
       "    }\n",
       "\n",
       "    .dataframe tbody tr th {\n",
       "        vertical-align: top;\n",
       "    }\n",
       "\n",
       "    .dataframe thead th {\n",
       "        text-align: right;\n",
       "    }\n",
       "</style>\n",
       "<table border=\"1\" class=\"dataframe\">\n",
       "  <thead>\n",
       "    <tr style=\"text-align: right;\">\n",
       "      <th></th>\n",
       "      <th>a</th>\n",
       "      <th>b</th>\n",
       "      <th>c</th>\n",
       "      <th>d</th>\n",
       "      <th>e</th>\n",
       "      <th>f</th>\n",
       "      <th>g</th>\n",
       "      <th>h</th>\n",
       "      <th>i</th>\n",
       "      <th>j</th>\n",
       "      <th>...</th>\n",
       "      <th>q</th>\n",
       "      <th>r</th>\n",
       "      <th>s</th>\n",
       "      <th>t</th>\n",
       "      <th>u</th>\n",
       "      <th>v</th>\n",
       "      <th>w</th>\n",
       "      <th>x</th>\n",
       "      <th>y</th>\n",
       "      <th>z</th>\n",
       "    </tr>\n",
       "  </thead>\n",
       "  <tbody>\n",
       "    <tr>\n",
       "      <th>0</th>\n",
       "      <td>16.112046</td>\n",
       "      <td>45.043323</td>\n",
       "      <td>34.760161</td>\n",
       "      <td>39.080611</td>\n",
       "      <td>23.954685</td>\n",
       "      <td>59.517495</td>\n",
       "      <td>12.044223</td>\n",
       "      <td>5.229402</td>\n",
       "      <td>71.401346</td>\n",
       "      <td>96.184750</td>\n",
       "      <td>...</td>\n",
       "      <td>19.321955</td>\n",
       "      <td>13.011552</td>\n",
       "      <td>70.274770</td>\n",
       "      <td>8.302538</td>\n",
       "      <td>95.160402</td>\n",
       "      <td>50.337004</td>\n",
       "      <td>9.134849</td>\n",
       "      <td>76.497600</td>\n",
       "      <td>51.885730</td>\n",
       "      <td>29.256673</td>\n",
       "    </tr>\n",
       "    <tr>\n",
       "      <th>1</th>\n",
       "      <td>18.429321</td>\n",
       "      <td>67.311355</td>\n",
       "      <td>44.498426</td>\n",
       "      <td>62.534986</td>\n",
       "      <td>12.756834</td>\n",
       "      <td>49.769261</td>\n",
       "      <td>61.952343</td>\n",
       "      <td>23.156132</td>\n",
       "      <td>71.480424</td>\n",
       "      <td>60.940044</td>\n",
       "      <td>...</td>\n",
       "      <td>22.971109</td>\n",
       "      <td>26.196641</td>\n",
       "      <td>93.465012</td>\n",
       "      <td>15.696795</td>\n",
       "      <td>80.874936</td>\n",
       "      <td>58.611733</td>\n",
       "      <td>59.266286</td>\n",
       "      <td>5.767144</td>\n",
       "      <td>57.897844</td>\n",
       "      <td>89.808177</td>\n",
       "    </tr>\n",
       "    <tr>\n",
       "      <th>2</th>\n",
       "      <td>86.581969</td>\n",
       "      <td>49.917271</td>\n",
       "      <td>39.222873</td>\n",
       "      <td>33.325479</td>\n",
       "      <td>50.416215</td>\n",
       "      <td>22.831300</td>\n",
       "      <td>54.743900</td>\n",
       "      <td>51.541679</td>\n",
       "      <td>84.115995</td>\n",
       "      <td>57.526369</td>\n",
       "      <td>...</td>\n",
       "      <td>47.516906</td>\n",
       "      <td>49.370913</td>\n",
       "      <td>47.448365</td>\n",
       "      <td>19.824859</td>\n",
       "      <td>6.700591</td>\n",
       "      <td>15.493329</td>\n",
       "      <td>48.907932</td>\n",
       "      <td>30.833450</td>\n",
       "      <td>91.452755</td>\n",
       "      <td>3.152308</td>\n",
       "    </tr>\n",
       "  </tbody>\n",
       "</table>\n",
       "<p>3 rows × 26 columns</p>\n",
       "</div>"
      ],
      "text/plain": [
       "           a          b          c          d          e          f  \\\n",
       "0  16.112046  45.043323  34.760161  39.080611  23.954685  59.517495   \n",
       "1  18.429321  67.311355  44.498426  62.534986  12.756834  49.769261   \n",
       "2  86.581969  49.917271  39.222873  33.325479  50.416215  22.831300   \n",
       "\n",
       "           g          h          i          j  ...          q          r  \\\n",
       "0  12.044223   5.229402  71.401346  96.184750  ...  19.321955  13.011552   \n",
       "1  61.952343  23.156132  71.480424  60.940044  ...  22.971109  26.196641   \n",
       "2  54.743900  51.541679  84.115995  57.526369  ...  47.516906  49.370913   \n",
       "\n",
       "           s          t          u          v          w          x  \\\n",
       "0  70.274770   8.302538  95.160402  50.337004   9.134849  76.497600   \n",
       "1  93.465012  15.696795  80.874936  58.611733  59.266286   5.767144   \n",
       "2  47.448365  19.824859   6.700591  15.493329  48.907932  30.833450   \n",
       "\n",
       "           y          z  \n",
       "0  51.885730  29.256673  \n",
       "1  57.897844  89.808177  \n",
       "2  91.452755   3.152308  \n",
       "\n",
       "[3 rows x 26 columns]"
      ]
     },
     "metadata": {},
     "output_type": "display_data"
    }
   ],
   "source": [
    "df = pd.read_excel(r'data/tickers_prices2.xlsx')\n",
    "display(df.head(3))"
   ]
  },
  {
   "cell_type": "code",
   "execution_count": 139,
   "metadata": {},
   "outputs": [],
   "source": [
    "data_conection = (\"Driver={SQL Server};\"\n",
    "                 \"Server=DESKTOP-0EKP870;\"\n",
    "                 \"Database=InsertDataTest;\")\n",
    "cnxn = pyodbc.connect(data_conection)\n",
    "cursor = cnxn.cursor()"
   ]
  },
  {
   "cell_type": "code",
   "execution_count": 140,
   "metadata": {},
   "outputs": [],
   "source": [
    "columnName = list(df.columns)\n",
    "columnDataType = ['FLOAT' for i in range (len(columnName))]\n",
    "createTableStatement = 'USE InsertDataTest \\n CREATE TABLE Table{} ('.format(2)\n",
    "for i in range(len(columnDataType)):\n",
    "    createTableStatement = createTableStatement + '\\n' + columnName[i] + ' ' + columnDataType[i] + ','\n",
    "createTableStatement = createTableStatement[:-1] + ' );'"
   ]
  },
  {
   "cell_type": "code",
   "execution_count": 141,
   "metadata": {},
   "outputs": [],
   "source": [
    "InsertValuesTable = 'INSERT INTO Table{}('.format(2)\n",
    "for i in range(len(columnName)):\n",
    "    InsertValuesTable = InsertValuesTable + columnName[i] + ',' + ' '\n",
    "InsertValuesTable = InsertValuesTable[:-2] + ')\\n VALUES'"
   ]
  },
  {
   "cell_type": "code",
   "execution_count": 142,
   "metadata": {},
   "outputs": [],
   "source": [
    "subset = df[list(df.columns)]\n",
    "tuples = [tuple(x) for x in subset.to_numpy()]"
   ]
  },
  {
   "cell_type": "code",
   "execution_count": 143,
   "metadata": {},
   "outputs": [],
   "source": [
    "values_rows = '('\n",
    "for numeric in tuples[0]:\n",
    "    values_rows = values_rows + str(numeric) + ',' + ' '\n",
    "values_rows = values_rows[:-2] + ')' + ',' + '\\n'\n",
    "for i in range(1, len(tuples)-1):\n",
    "    values_rows = values_rows + '('\n",
    "    for numeric in tuples[i]:\n",
    "        values_rows = values_rows + str(numeric) + ',' + ' '\n",
    "    values_rows = values_rows[:-2] + ')' + ',' + '\\n'\n",
    "values_rows = values_rows + '('\n",
    "for numeric in tuples[-1]:\n",
    "    values_rows = values_rows + str(numeric) + ',' + ' '\n",
    "values_rows = values_rows[:-2] + ')' + '\\n'"
   ]
  },
  {
   "cell_type": "code",
   "execution_count": 144,
   "metadata": {},
   "outputs": [],
   "source": [
    "cursor.execute(createTableStatement + InsertValuesTable + values_rows)\n",
    "cnxn.commit()"
   ]
  }
 ],
 "metadata": {
  "kernelspec": {
   "display_name": "Python 3",
   "language": "python",
   "name": "python3"
  },
  "language_info": {
   "codemirror_mode": {
    "name": "ipython",
    "version": 3
   },
   "file_extension": ".py",
   "mimetype": "text/x-python",
   "name": "python",
   "nbconvert_exporter": "python",
   "pygments_lexer": "ipython3",
   "version": "3.8.5"
  }
 },
 "nbformat": 4,
 "nbformat_minor": 4
}
